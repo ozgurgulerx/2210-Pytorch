{
 "cells": [
  {
   "cell_type": "code",
   "execution_count": 3,
   "metadata": {},
   "outputs": [
    {
     "name": "stdout",
     "output_type": "stream",
     "text": [
      "[ 1.83977732  1.61355249  4.70413052 -3.72224777  3.4985864  -1.55836861\n",
      "  2.14198378  3.68314915  4.62002501 -2.5492296  -4.03824071 -0.0406824\n",
      " -2.40780265 -3.86756516 -0.1010124  -2.04222192 -3.1758892   1.53155767\n",
      " -1.3372316   3.11613894]\n",
      "[-0.39547629 -1.00590743  1.35112303 -1.90829636 -0.60782078 -1.43853558\n",
      " -1.62422448  0.34244185 -1.11986821 -1.8891611  -3.97708833 -2.26551706\n",
      " -2.86887913 -2.58219266 -0.96892285 -1.97739542  0.07885874  1.88664085\n",
      " -0.51801918  1.96393815]\n"
     ]
    },
    {
     "data": {
      "text/plain": [
       "<matplotlib.collections.PathCollection at 0x7f17b5ea0d60>"
      ]
     },
     "execution_count": 3,
     "metadata": {},
     "output_type": "execute_result"
    },
    {
     "data": {
      "image/png": "[encoded data removed]",
      "text/plain": [
       "<Figure size 432x288 with 1 Axes>"
      ]
     },
     "metadata": {
      "needs_background": "light"
     },
     "output_type": "display_data"
    }
   ],
   "source": [
    "import torch \n",
    "import torch.nn as nn\n",
    "import numpy as np\n",
    "import matplotlib.pyplot as plt \n",
    "\n",
    "N = 20 \n",
    "#random data on the x-axis in (-5,+5)\n",
    "X = np.random.random(N) * 10 -5\n",
    "print(X)\n",
    "#a line plus some noise \n",
    "Y = 0.5 * X - 1 + np.random.randn(N)\n",
    "print(Y)\n",
    "plt.scatter(X,Y)"
   ]
  },
  {
   "cell_type": "code",
   "execution_count": 12,
   "metadata": {},
   "outputs": [
    {
     "data": {
      "text/plain": [
       "torch.Tensor"
      ]
     },
     "execution_count": 12,
     "metadata": {},
     "output_type": "execute_result"
    }
   ],
   "source": [
    "model = nn.Linear (1,1)\n",
    "criterion = nn.MSELoss()\n",
    "optimizer = torch.optim.SGD(model.parameters(), lr=0.1)\n",
    "\n",
    "X = X.reshape(N,1)\n",
    "Y = Y.reshape(N,1)\n",
    "\n",
    "inputs = torch.from_numpy(X.astype(np.float32))\n",
    "targets = torch.from_numpy(Y.astype(np.float32)) \n",
    "\n",
    "type(inputs)\n"
   ]
  },
  {
   "cell_type": "code",
   "execution_count": 13,
   "metadata": {},
   "outputs": [
    {
     "name": "stdout",
     "output_type": "stream",
     "text": [
      "Epoch 1/30, Loss: 3.7253\n",
      "Epoch 2/30, Loss: 2.5366\n",
      "Epoch 3/30, Loss: 1.9510\n",
      "Epoch 4/30, Loss: 1.6569\n",
      "Epoch 5/30, Loss: 1.5058\n",
      "Epoch 6/30, Loss: 1.4262\n",
      "Epoch 7/30, Loss: 1.3831\n",
      "Epoch 8/30, Loss: 1.3591\n",
      "Epoch 9/30, Loss: 1.3454\n",
      "Epoch 10/30, Loss: 1.3374\n",
      "Epoch 11/30, Loss: 1.3326\n",
      "Epoch 12/30, Loss: 1.3297\n",
      "Epoch 13/30, Loss: 1.3280\n",
      "Epoch 14/30, Loss: 1.3269\n",
      "Epoch 15/30, Loss: 1.3262\n",
      "Epoch 16/30, Loss: 1.3257\n",
      "Epoch 17/30, Loss: 1.3255\n",
      "Epoch 18/30, Loss: 1.3253\n",
      "Epoch 19/30, Loss: 1.3252\n",
      "Epoch 20/30, Loss: 1.3251\n",
      "Epoch 21/30, Loss: 1.3251\n",
      "Epoch 22/30, Loss: 1.3250\n",
      "Epoch 23/30, Loss: 1.3250\n",
      "Epoch 24/30, Loss: 1.3250\n",
      "Epoch 25/30, Loss: 1.3250\n",
      "Epoch 26/30, Loss: 1.3250\n",
      "Epoch 27/30, Loss: 1.3250\n",
      "Epoch 28/30, Loss: 1.3250\n",
      "Epoch 29/30, Loss: 1.3250\n",
      "Epoch 30/30, Loss: 1.3250\n"
     ]
    }
   ],
   "source": [
    "n_epochs = 30 \n",
    "losses = []\n",
    "for it in range(n_epochs):\n",
    "    \n",
    "    #zero the parameters \n",
    "    optimizer.zero_grad()\n",
    "    \n",
    "    #Forward pass - to get model predictions \n",
    "    outputs = model(inputs)\n",
    "    \n",
    "    #keep the loss so that we can plot later\n",
    "    loss = criterion(outputs, targets)\n",
    "    losses.append(loss.item())\n",
    "    \n",
    "    #backward and optimize \n",
    "    loss.backward()\n",
    "    optimizer.step()\n",
    "    \n",
    "    print(f'Epoch {it+1}/{n_epochs}, Loss: {loss.item():.4f}')"
   ]
  },
  {
   "cell_type": "code",
   "execution_count": 14,
   "metadata": {},
   "outputs": [
    {
     "data": {
      "text/plain": [
       "[<matplotlib.lines.Line2D at 0x7f17909f0b20>]"
      ]
     },
     "execution_count": 14,
     "metadata": {},
     "output_type": "execute_result"
    },
    {
     "data": {
      "image/png": "[encoded data removed]",
      "text/plain": [
       "<Figure size 432x288 with 1 Axes>"
      ]
     },
     "metadata": {
      "needs_background": "light"
     },
     "output_type": "display_data"
    }
   ],
   "source": [
    "plt.plot(losses)"
   ]
  },
  {
   "cell_type": "code",
   "execution_count": 17,
   "metadata": {},
   "outputs": [
    {
     "data": {
      "image/png": "[encoded data removed]",
      "text/plain": [
       "<Figure size 432x288 with 1 Axes>"
      ]
     },
     "metadata": {
      "needs_background": "light"
     },
     "output_type": "display_data"
    }
   ],
   "source": [
    "#Plot the graph \n",
    "predicted = model(inputs).detach().numpy()\n",
    "plt.scatter(X,Y, label='Original Data')\n",
    "plt.plot(X, predicted, label = 'Fitted line')\n",
    "plt.legend()\n",
    "plt.show()"
   ]
  },
  {
   "cell_type": "code",
   "execution_count": null,
   "metadata": {},
   "outputs": [],
   "source": []
  }
 ],
 "metadata": {
  "instance_type": "ml.g4dn.xlarge",
  "kernelspec": {
   "display_name": "Python 3 (PyTorch 1.10 Python 3.8 GPU Optimized)",
   "language": "python",
   "name": "python3__SAGEMAKER_INTERNAL__arn:aws:sagemaker:us-east-1:081325390199:image/pytorch-1.10-gpu-py38"
  },
  "language_info": {
   "codemirror_mode": {
    "name": "ipython",
    "version": 3
   },
   "file_extension": ".py",
   "mimetype": "text/x-python",
   "name": "python",
   "nbconvert_exporter": "python",
   "pygments_lexer": "ipython3",
   "version": "3.8.10"
  }
 },
 "nbformat": 4,
 "nbformat_minor": 4
}
