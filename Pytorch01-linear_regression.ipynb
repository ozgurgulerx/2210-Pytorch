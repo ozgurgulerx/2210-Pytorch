{
 "cells": [
  {
   "cell_type": "code",
   "execution_count": 18,
   "metadata": {},
   "outputs": [
    {
     "name": "stdout",
     "output_type": "stream",
     "text": [
      "[ 0.40184371  1.81446618  3.04048189 -3.10056774  1.45129253  3.92601393\n",
      "  0.04264047 -1.07055799 -2.23709109  4.7808512   0.73326424 -3.67177878\n",
      "  0.96260229  3.1086763  -2.33124867  2.57957453 -4.1482363   4.67527391\n",
      " -4.98884388 -1.44090684]\n",
      "[-0.95713175 -1.10587448  0.90140665 -1.20545973  0.58975959  0.9077394\n",
      " -0.02767987 -2.03786365 -2.26658968  1.83985198  0.25774811 -3.04530982\n",
      " -0.53775823  2.27036063 -1.67409053  0.61640862 -2.64824245  0.69756246\n",
      " -2.79236688 -0.97399991]\n"
     ]
    },
    {
     "data": {
      "text/plain": [
       "<matplotlib.collections.PathCollection at 0x7f1790a1c430>"
      ]
     },
     "execution_count": 18,
     "metadata": {},
     "output_type": "execute_result"
    },
    {
     "data": {
      "image/png": "[encoded data removed]",
      "text/plain": [
       "<Figure size 432x288 with 1 Axes>"
      ]
     },
     "metadata": {
      "needs_background": "light"
     },
     "output_type": "display_data"
    }
   ],
   "source": [
    "import torch \n",
    "import torch.nn as nn\n",
    "import numpy as np\n",
    "import matplotlib.pyplot as plt \n",
    "\n",
    "N = 20 \n",
    "#random data on the x-axis in (-5,+5)\n",
    "X = np.random.random(N) * 10 -5\n",
    "print(X)\n",
    "#a line plus some noise \n",
    "Y = 0.5 * X - 1 + np.random.randn(N)\n",
    "print(Y)\n",
    "plt.scatter(X,Y)"
   ]
  },
  {
   "cell_type": "code",
   "execution_count": 19,
   "metadata": {},
   "outputs": [
    {
     "data": {
      "text/plain": [
       "torch.Tensor"
      ]
     },
     "execution_count": 19,
     "metadata": {},
     "output_type": "execute_result"
    }
   ],
   "source": [
    "model = nn.Linear (1,1)\n",
    "criterion = nn.MSELoss()\n",
    "optimizer = torch.optim.SGD(model.parameters(), lr=0.1)\n",
    "\n",
    "X = X.reshape(N,1)\n",
    "Y = Y.reshape(N,1)\n",
    "\n",
    "inputs = torch.from_numpy(X.astype(np.float32))\n",
    "targets = torch.from_numpy(Y.astype(np.float32)) \n",
    "\n",
    "type(inputs)\n"
   ]
  },
  {
   "cell_type": "code",
   "execution_count": 22,
   "metadata": {},
   "outputs": [
    {
     "name": "stdout",
     "output_type": "stream",
     "text": [
      "Epoch 1/30, Loss: 0.4304\n",
      "Epoch 2/30, Loss: 0.4304\n",
      "Epoch 3/30, Loss: 0.4304\n",
      "Epoch 4/30, Loss: 0.4304\n",
      "Epoch 5/30, Loss: 0.4304\n",
      "Epoch 6/30, Loss: 0.4304\n",
      "Epoch 7/30, Loss: 0.4304\n",
      "Epoch 8/30, Loss: 0.4304\n",
      "Epoch 9/30, Loss: 0.4304\n",
      "Epoch 10/30, Loss: 0.4304\n",
      "Epoch 11/30, Loss: 0.4304\n",
      "Epoch 12/30, Loss: 0.4304\n",
      "Epoch 13/30, Loss: 0.4304\n",
      "Epoch 14/30, Loss: 0.4304\n",
      "Epoch 15/30, Loss: 0.4304\n",
      "Epoch 16/30, Loss: 0.4304\n",
      "Epoch 17/30, Loss: 0.4304\n",
      "Epoch 18/30, Loss: 0.4304\n",
      "Epoch 19/30, Loss: 0.4304\n",
      "Epoch 20/30, Loss: 0.4304\n",
      "Epoch 21/30, Loss: 0.4304\n",
      "Epoch 22/30, Loss: 0.4304\n",
      "Epoch 23/30, Loss: 0.4304\n",
      "Epoch 24/30, Loss: 0.4304\n",
      "Epoch 25/30, Loss: 0.4304\n",
      "Epoch 26/30, Loss: 0.4304\n",
      "Epoch 27/30, Loss: 0.4304\n",
      "Epoch 28/30, Loss: 0.4304\n",
      "Epoch 29/30, Loss: 0.4304\n",
      "Epoch 30/30, Loss: 0.4304\n"
     ]
    }
   ],
   "source": [
    "n_epochs = 30 \n",
    "losses = []\n",
    "for it in range(n_epochs):\n",
    "    \n",
    "    #zero the parameters \n",
    "    optimizer.zero_grad()\n",
    "    \n",
    "    #Forward pass - to get model predictions \n",
    "    outputs = model(inputs)\n",
    "    \n",
    "    #keep the loss so that we can plot later\n",
    "    loss = criterion(outputs, targets)\n",
    "    losses.append(loss.item())\n",
    "    \n",
    "    #backward and optimize \n",
    "    loss.backward()\n",
    "    optimizer.step()  #does a one-step of gradient descent\n",
    "    \n",
    "    print(f'Epoch {it+1}/{n_epochs}, Loss: {loss.item():.4f}')"
   ]
  },
  {
   "cell_type": "code",
   "execution_count": 21,
   "metadata": {},
   "outputs": [
    {
     "data": {
      "text/plain": [
       "[<matplotlib.lines.Line2D at 0x7f17909e2070>]"
      ]
     },
     "execution_count": 21,
     "metadata": {},
     "output_type": "execute_result"
    },
    {
     "data": {
      "image/png": "[encoded data removed]",
      "text/plain": [
       "<Figure size 432x288 with 1 Axes>"
      ]
     },
     "metadata": {
      "needs_background": "light"
     },
     "output_type": "display_data"
    }
   ],
   "source": [
    "plt.plot(losses)"
   ]
  },
  {
   "cell_type": "code",
   "execution_count": 23,
   "metadata": {},
   "outputs": [
    {
     "data": {
      "image/png": "[encoded data removed]",
      "text/plain": [
       "<Figure size 432x288 with 1 Axes>"
      ]
     },
     "metadata": {
      "needs_background": "light"
     },
     "output_type": "display_data"
    }
   ],
   "source": [
    "#Plot the graph \n",
    "predicted = model(inputs).detach().numpy()\n",
    "plt.scatter(X,Y, label='Original Data')\n",
    "plt.plot(X, predicted, label = 'Fitted line')\n",
    "plt.legend()\n",
    "plt.show()"
   ]
  },
  {
   "cell_type": "code",
   "execution_count": null,
   "metadata": {},
   "outputs": [],
   "source": []
  }
 ],
 "metadata": {
  "instance_type": "ml.g4dn.xlarge",
  "kernelspec": {
   "display_name": "Python 3 (PyTorch 1.10 Python 3.8 GPU Optimized)",
   "language": "python",
   "name": "python3__SAGEMAKER_INTERNAL__arn:aws:sagemaker:us-east-1:081325390199:image/pytorch-1.10-gpu-py38"
  },
  "language_info": {
   "codemirror_mode": {
    "name": "ipython",
    "version": 3
   },
   "file_extension": ".py",
   "mimetype": "text/x-python",
   "name": "python",
   "nbconvert_exporter": "python",
   "pygments_lexer": "ipython3",
   "version": "3.8.10"
  }
 },
 "nbformat": 4,
 "nbformat_minor": 4
}
